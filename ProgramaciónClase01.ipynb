{
 "cells": [
  {
   "cell_type": "markdown",
   "metadata": {},
   "source": [
    "# Clase 01.\n",
    "## Ejercicios.\n",
    "### 1) Pregunta nombre y apellido y responde con el nombre completo."
   ]
  },
  {
   "cell_type": "code",
   "execution_count": 3,
   "metadata": {},
   "outputs": [
    {
     "name": "stdout",
     "output_type": "stream",
     "text": [
      "Nombre? Gabriel\n",
      "Apellido? López\n",
      "Tu nombre completo es:\n",
      "Gabriel López\n"
     ]
    }
   ],
   "source": [
    "Nombre = input(\"Nombre? \")\n",
    "Apellido = input(\"Apellido? \")\n",
    "print(\"Tu nombre completo es:\")\n",
    "print(Nombre+\" \"+Apellido)"
   ]
  },
  {
   "cell_type": "markdown",
   "metadata": {},
   "source": [
    "### 2) Pregunta año de nacimiento y responde con la edad."
   ]
  },
  {
   "cell_type": "code",
   "execution_count": 4,
   "metadata": {},
   "outputs": [
    {
     "name": "stdout",
     "output_type": "stream",
     "text": [
      "Año de nacimiento? 2001\n",
      "Edad: 19\n"
     ]
    }
   ],
   "source": [
    "Año = int(input(\"Año de nacimiento? \"))\n",
    "Edad = 2020-Año\n",
    "print(\"Edad: \"+str(Edad))"
   ]
  },
  {
   "cell_type": "markdown",
   "metadata": {},
   "source": [
    "### 3) Pregunta año de ingreso a la UCA y responde con el año de egreso."
   ]
  },
  {
   "cell_type": "code",
   "execution_count": 5,
   "metadata": {},
   "outputs": [
    {
     "name": "stdout",
     "output_type": "stream",
     "text": [
      "Año de ingreso a la UCA? 2019\n",
      "Año de egreso: 2024\n"
     ]
    }
   ],
   "source": [
    "Ingreso = int(input(\"Año de ingreso a la UCA? \"))\n",
    "Egreso = Ingreso+5\n",
    "print(\"Año de egreso: \"+str(Egreso))"
   ]
  },
  {
   "cell_type": "markdown",
   "metadata": {},
   "source": [
    "### 3) Pregunta notas de parciales y responde con nota final."
   ]
  },
  {
   "cell_type": "code",
   "execution_count": 10,
   "metadata": {},
   "outputs": [
    {
     "name": "stdout",
     "output_type": "stream",
     "text": [
      "Nota primer parcial? 8.5\n",
      "Nota segundo parcial? 8\n",
      "Nota tercer parcial? 7\n",
      "Nota laboratorio? 9\n",
      "Nota final: 7.95\n"
     ]
    }
   ],
   "source": [
    "p1 = float(input(\"Nota primer parcial? \"))\n",
    "p2 = float(input(\"Nota segundo parcial? \"))\n",
    "p3 = float(input(\"Nota tercer parcial? \"))\n",
    "lab = float(input(\"Nota laboratorio? \"))\n",
    "Final = p1*0.3+p2*0.3+p3*0.3+lab*0.1\n",
    "print(\"Nota final: \"+str(round(Final,2)))"
   ]
  },
  {
   "cell_type": "markdown",
   "metadata": {},
   "source": [
    "### 4) Transforma de grados Farenheit a centígrados."
   ]
  },
  {
   "cell_type": "code",
   "execution_count": 13,
   "metadata": {},
   "outputs": [
    {
     "name": "stdout",
     "output_type": "stream",
     "text": [
      "Grados Farenheit: 100\n",
      "Grados centígrados: 37.78\n"
     ]
    }
   ],
   "source": [
    "F = float(input(\"Grados Farenheit: \"))\n",
    "C = (F-32)/1.8\n",
    "print(\"Grados centígrados: \"+str(round(C,2)))"
   ]
  },
  {
   "cell_type": "markdown",
   "metadata": {},
   "source": [
    "### 5) Cálculo de hipotenusa."
   ]
  },
  {
   "cell_type": "code",
   "execution_count": 15,
   "metadata": {},
   "outputs": [
    {
     "name": "stdout",
     "output_type": "stream",
     "text": [
      "Lado a: 3\n",
      "Lado b: 4\n",
      "Hipotenusa: 5.0\n"
     ]
    }
   ],
   "source": [
    "a = float(input(\"Lado a: \"))\n",
    "b = float(input(\"Lado b: \"))\n",
    "h = (a**2 + b**2)**(1/2)\n",
    "print(\"Hipotenusa: \"+str(round(h,2)))"
   ]
  },
  {
   "cell_type": "code",
   "execution_count": null,
   "metadata": {},
   "outputs": [],
   "source": []
  }
 ],
 "metadata": {
  "kernelspec": {
   "display_name": "Python 3",
   "language": "python",
   "name": "python3"
  },
  "language_info": {
   "codemirror_mode": {
    "name": "ipython",
    "version": 3
   },
   "file_extension": ".py",
   "mimetype": "text/x-python",
   "name": "python",
   "nbconvert_exporter": "python",
   "pygments_lexer": "ipython3",
   "version": "3.7.3"
  }
 },
 "nbformat": 4,
 "nbformat_minor": 2
}
